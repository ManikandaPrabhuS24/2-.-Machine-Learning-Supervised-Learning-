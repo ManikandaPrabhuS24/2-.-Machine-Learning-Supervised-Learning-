{
  "nbformat": 4,
  "nbformat_minor": 0,
  "metadata": {
    "colab": {
      "provenance": []
    },
    "kernelspec": {
      "name": "python3",
      "display_name": "Python 3"
    },
    "language_info": {
      "name": "python"
    }
  },
  "cells": [
    {
      "cell_type": "code",
      "execution_count": 2,
      "metadata": {
        "colab": {
          "base_uri": "https://localhost:8080/"
        },
        "id": "RzNKKVEUPNMQ",
        "outputId": "2cb00508-c2cb-44e5-c632-4008a830d93d"
      },
      "outputs": [
        {
          "output_type": "stream",
          "name": "stdout",
          "text": [
            "Enter the Years of Experience : 4.9\n",
            "The Predicted salary for 4.9 Years of Experience is 72411.72\n"
          ]
        },
        {
          "output_type": "stream",
          "name": "stderr",
          "text": [
            "/usr/local/lib/python3.12/dist-packages/sklearn/utils/validation.py:2739: UserWarning: X does not have valid feature names, but LinearRegression was fitted with feature names\n",
            "  warnings.warn(\n",
            "/tmp/ipython-input-2607605922.py:4: DeprecationWarning: Conversion of an array with ndim > 0 to a scalar is deprecated, and will error in future. Ensure you extract a single element from your array before performing this operation. (Deprecated NumPy 1.25.)\n",
            "  result = float(load_model.predict([[prediction]]))\n"
          ]
        }
      ],
      "source": [
        "import pickle\n",
        "load_model = pickle.load(open('/content/Finalized_model.sav','rb'))\n",
        "prediction = float(input(\"Enter the Years of Experience : \"))\n",
        "result = float(load_model.predict([[prediction]]))\n",
        "print(f\"The Predicted salary for {prediction} Years of Experience is {result:.2f}\")"
      ]
    }
  ]
}